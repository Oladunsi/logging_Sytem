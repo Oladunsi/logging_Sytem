{
 "cells": [
  {
   "cell_type": "code",
   "execution_count": 5,
   "metadata": {},
   "outputs": [
    {
     "name": "stdout",
     "output_type": "stream",
     "text": [
      "NLTK Downloader\n",
      "---------------------------------------------------------------------------\n",
      "    d) Download   l) List    u) Update   c) Config   h) Help   q) Quit\n",
      "---------------------------------------------------------------------------\n"
     ]
    },
    {
     "name": "stdin",
     "output_type": "stream",
     "text": [
      "Downloader>  h\n"
     ]
    },
    {
     "name": "stdout",
     "output_type": "stream",
     "text": [
      "\n",
      "Commands:\n",
      "  d) Download a package or collection     u) Update out of date packages\n",
      "  l) List packages & collections          h) Help\n",
      "  c) View & Modify Configuration          q) Quit\n",
      "\n",
      "---------------------------------------------------------------------------\n",
      "    d) Download   l) List    u) Update   c) Config   h) Help   q) Quit\n",
      "---------------------------------------------------------------------------\n"
     ]
    },
    {
     "name": "stdin",
     "output_type": "stream",
     "text": [
      "Downloader>  h\n"
     ]
    },
    {
     "name": "stdout",
     "output_type": "stream",
     "text": [
      "\n",
      "Commands:\n",
      "  d) Download a package or collection     u) Update out of date packages\n",
      "  l) List packages & collections          h) Help\n",
      "  c) View & Modify Configuration          q) Quit\n",
      "\n",
      "---------------------------------------------------------------------------\n",
      "    d) Download   l) List    u) Update   c) Config   h) Help   q) Quit\n",
      "---------------------------------------------------------------------------\n"
     ]
    },
    {
     "name": "stdin",
     "output_type": "stream",
     "text": [
      "Downloader>  1\n"
     ]
    },
    {
     "name": "stdout",
     "output_type": "stream",
     "text": [
      "Command '1' unrecognized\n",
      "\n",
      "---------------------------------------------------------------------------\n",
      "    d) Download   l) List    u) Update   c) Config   h) Help   q) Quit\n",
      "---------------------------------------------------------------------------\n"
     ]
    },
    {
     "name": "stdin",
     "output_type": "stream",
     "text": [
      "Downloader>  l\n"
     ]
    },
    {
     "name": "stdout",
     "output_type": "stream",
     "text": [
      "\n",
      "Packages:\n",
      "Error connecting to server: [Errno 11001] getaddrinfo failed\n",
      "\n",
      "---------------------------------------------------------------------------\n",
      "    d) Download   l) List    u) Update   c) Config   h) Help   q) Quit\n",
      "---------------------------------------------------------------------------\n"
     ]
    },
    {
     "name": "stdin",
     "output_type": "stream",
     "text": [
      "Downloader>  quit\n"
     ]
    },
    {
     "name": "stdout",
     "output_type": "stream",
     "text": [
      "Command 'quit' unrecognized\n",
      "\n",
      "---------------------------------------------------------------------------\n",
      "    d) Download   l) List    u) Update   c) Config   h) Help   q) Quit\n",
      "---------------------------------------------------------------------------\n"
     ]
    },
    {
     "name": "stdin",
     "output_type": "stream",
     "text": [
      "Downloader>  q\n"
     ]
    },
    {
     "data": {
      "text/plain": [
       "True"
      ]
     },
     "execution_count": 5,
     "metadata": {},
     "output_type": "execute_result"
    }
   ],
   "source": [
    "import nltk\n",
    "nltk.download()"
   ]
  },
  {
   "cell_type": "code",
   "execution_count": 49,
   "metadata": {},
   "outputs": [
    {
     "name": "stdin",
     "output_type": "stream",
     "text": [
      "Centimeter :  100\n"
     ]
    },
    {
     "name": "stdout",
     "output_type": "stream",
     "text": [
      "this is an intentional conversion of 100.0  cm where 1cm == 2.20462 to 220.462 inches\n"
     ]
    }
   ],
   "source": [
    "from nltk.corpus import brown\n",
    "#brown.words()\n",
    "\n",
    "\n",
    "centi = float(input(\"Centimeter : \"))\n",
    "inch_ = 2.20462\n",
    "total = centi * inch_\n",
    "\n",
    "print(f\"this is an intentional conversion of {centi}  cm where 1cm == {inch_} to {total} inches\")\n",
    " #{total}"
   ]
  },
  {
   "cell_type": "code",
   "execution_count": 52,
   "metadata": {},
   "outputs": [
    {
     "data": {
      "text/plain": [
       "103"
      ]
     },
     "execution_count": 52,
     "metadata": {},
     "output_type": "execute_result"
    }
   ],
   "source": [
    "round(100 + 2.55462)"
   ]
  },
  {
   "cell_type": "code",
   "execution_count": 46,
   "metadata": {},
   "outputs": [
    {
     "name": "stdout",
     "output_type": "stream",
     "text": [
      "3\n",
      "<class 'dict'>\n",
      "{'a': 2, 'b': 4, 'f': 2}\n"
     ]
    }
   ],
   "source": [
    "# iterating through the items in a list and then inserting the items as keys of a dictionary \n",
    "# then check if the list item is in the dictionary \n",
    "# if it is in the dictionary then add 1 to the \"value\" of the dict[key]\n",
    "l  = [\"a\", \"b\", \"f\", \"f\", \"b\", \"b\",\"a\", \"b\"]\n",
    "c = {}\n",
    "for i in l:\n",
    "    #print(c)\n",
    "    if i in c.keys():\n",
    "        c[i] += 1\n",
    "    else:\n",
    "        c[i] = 1\n",
    "    #print(c)\n",
    "print(len(c))\n",
    "print(type(c))\n",
    "print(c)"
   ]
  },
  {
   "cell_type": "code",
   "execution_count": 1,
   "metadata": {},
   "outputs": [
    {
     "name": "stdout",
     "output_type": "stream",
     "text": [
      "['1', '2', '3', '4', '5', '6', '7', '8', '9', '10', '11', '12', '13', '14', '15', '16']\n",
      "['16', '15', '14', '13', '12', '11', '10', '9', '8', '7', '6', '5', '4', '3', '2', '1']\n"
     ]
    }
   ],
   "source": [
    "y = \"1 2 3 4 5 6 7 8 9 10 11 12 13 14 15 16\".split()\n",
    "print(y)\n",
    "print(y[::-1])"
   ]
  },
  {
   "cell_type": "code",
   "execution_count": 8,
   "metadata": {},
   "outputs": [
    {
     "name": "stdin",
     "output_type": "stream",
     "text": [
      "Good day please who are ?  i am fine thanks, who are you ?\n",
      "Enter Your Passsword ? (it is the name of a fish)  swordfish\n"
     ]
    },
    {
     "name": "stdout",
     "output_type": "stream",
     "text": [
      "You have either entered a wrong USERNAME or PASSWORD\n"
     ]
    },
    {
     "name": "stdin",
     "output_type": "stream",
     "text": [
      "Good day please who are ?  oladunsi\n",
      "Enter Your Passsword ? (it is the name of a fish)  swordfish\n"
     ]
    },
    {
     "name": "stdout",
     "output_type": "stream",
     "text": [
      "Welcome DunsPrime\n"
     ]
    }
   ],
   "source": [
    "# HERE WE ARE TRYING TO SIMULATE A LOGING SYSTEM\n",
    "# FIRST WE INITIATE AN UNENDING WHILE LOOP BY SETTING IT TO BE TRUE\n",
    "while True:\n",
    "    # THEN AN IDENTIFICATION QUESTONS WILL BE ASKED WHICH BE STORED IN A VARIABLE \"userName\" AND \"password\"\n",
    "    userName = input(\"Good day please who are ? \").lower()\n",
    "    password = input(\"Enter Your Passsword ? (it is the name of a fish) \").lower()\n",
    "    # THEN A \"IF \"CONDITION THAT CHECKS IF \"TRUE\" THAT THE INPUT THE USER ENTERS ARE NOT EQUALS TO A \"userName\" AND A \"password\" IN THE DATABASE \n",
    "    # WHEN THE USER FINALLY ENTERS A \"userName\" ADN A \"password\" THAT IS IN THE DATABASE THEN THE \"ELSE\" CONDITION BELOW THE CONTINUE WILL BE INITIATED\n",
    "    if userName != \"oladunsi\" or password != \"swordfish\" :\n",
    "        print(\"You have either entered a wrong USERNAME or PASSWORD\")\n",
    "        continue\n",
    "    # HERE THE \"ELSE\" CONDITION IS INITIATED TO RESPOND WHEN EVER THE USER ENTERS A CORRECT \"userName\" AND \"password\"\n",
    "    # HERE THE WORK OF THE \"COUNT\" TO \"COUNT\" THE AMOUNT OF TIME A USER ENTERS WRONG PASSWORD, SO IF A USER ENTERS A WRONG\" PASSWORD\" TWICE THEN IT WILL \n",
    "    # RETURN THE USER TO THE FIRST IF WHERE THE USER WILL RE-ENTER THE \"USERNAME\" ONCE AGAIN\n",
    "    # BUT IF THE PASSWORD IS CORRECT THEN THE USER WILL HAVE ACCESS\n",
    "    else:\n",
    "        userName ==\"oladunsi\" and password == \"swordfish\" \n",
    "        print(\"Welcome DunsPrime\")\n",
    "        break\n",
    "                \n",
    "        #else:\n",
    "            #password == \"swordfish\"\n",
    "            #print(\"Welcome Sammy\")\n",
    "            #break\n",
    "            \n",
    "            "
   ]
  },
  {
   "cell_type": "code",
   "execution_count": null,
   "metadata": {},
   "outputs": [],
   "source": []
  },
  {
   "cell_type": "code",
   "execution_count": 5,
   "metadata": {},
   "outputs": [],
   "source": [
    "\n",
    "                                # TRUST ME IT TOOK ME TWO (2) WHOLE DAYS TO FIGURE THIS OUT \n",
    "                                # THERE WILL BE MORE CODES THAT WILL TAKE ME MORE DAYS TO FIGURE OUT\n",
    "                                # SAMMY DONT BE SCARED!!! FACE THEM AND NEVER GIVE UP YOU WILL FIND A WAY AROUND IT \n",
    "\n",
    "    # HERE WE ARE TRYING TO SIMULATE A LOGING SYSTEM\n",
    "    # FIRST WE INITIATE AN UNENDING WHILE LOOP BY SETTING IT TO BE TRUE\n",
    "def individual_check_login_system( ):\n",
    "    start = True\n",
    "    while start:\n",
    "        # THEN THE USERNAME WILL BE REQUESTED WHICH BE STORED IN A VARIABLE \"userName\" WHILE ON LIKE THE FIRST ONE THAT THE PASSWORD AND USERNAME \n",
    "        # WILL BOTH BE CHECKED AT THE SAME TIME.\n",
    "        # HERE THE USERNAME WILL FIRST BE VERIFIED THEN THE PROMPT TO ENTER THE PASSWORD WHICH WILL THEN GO THROUGH A CHECK IF IT IS THE DATABASE,\n",
    "        # THEN ACCESS WILL BE GRANTED\n",
    "        # IF IT IS NOT THE ANOTHER TRIAL WILL BE GIVEN, IF AFTER THE SECOND TRIAL AND THE USER ENTER AGAIN A WRONG PASSWORD THEN THE USER WILL BE \n",
    "        # TAKE BACK TO THE BEGINING WHERE THE USER WILL NOW ENTER THE USERNAME AFRESH\n",
    "        # BUT IF AFTER THE SENCOND TRIAL THE USER ENTERS THE CORRECT USERNAME THEN THE USER WILL BE GRANTED ACCESS\n",
    "        userName = input(\"Good day please who are ? \").lower()\n",
    "        if userName != \"oladunsi\":\n",
    "            print(\"You have entered a wrong USERNAME, pls continue\")\n",
    "            continue\n",
    "\n",
    "        else:\n",
    "            password = input(\"Enter Your Passsword ? (it is the name of a fish) \").lower()\n",
    "            count = 0\n",
    "            if userName == \"oladunsi\":       \n",
    "                if password != \"swordfish\" and count == 2:\n",
    "                    userName = \" \"\n",
    "                    break\n",
    "                    #print(\"You have entered awrong password once\")\n",
    "                    #password = input(\"Enter Your Passsword ? (it is the name of a fish) \").lower()\n",
    "                    #print( count)\n",
    "\n",
    "\n",
    "                elif password != \"swordfish\" and count < 2 and userName == \"oladunsi\":\n",
    "                    count += 1\n",
    "                    print(count)\n",
    "                    password = input(\"Enter Your Passsword ? (it is the name of a fish) \").lower()\n",
    "                    if password == \"swordfish\":\n",
    "                        print(\"finally\") \n",
    "                        break\n",
    "\n",
    "                    #print(\"Thanks start all over from userName\")\n",
    "                    #continue\n",
    "                #elif password == \"swordfish\" and count == 1:\n",
    "                    #print(\"Finally\")\n",
    "                    #break\n",
    "\n",
    "                else:\n",
    "                    print(\"Great, Nice one\") \n",
    "                    break\n",
    "                    #password == \"swordfish\" \n",
    "                    #print(\"Great\")  \n",
    "                    #break\n",
    "\n",
    "                    #userName = input(\"Good day please who are ? \").lower()\n",
    "\n",
    "\n",
    "\n",
    "\n"
   ]
  },
  {
   "cell_type": "code",
   "execution_count": 1,
   "metadata": {},
   "outputs": [],
   "source": [
    "\n",
    "                                # TRUST ME IT TOOK ME TWO (2) WHOLE DAYS TO FIGURE THIS OUT \n",
    "                                # THERE WILL BE MORE CODES THAT WILL TAKE ME MORE DAYS TO FIGURE OUT\n",
    "                                # SAMMY DONT BE SCARED!!! FACE THEM AND NEVER GIVE UP YOU WILL FIND A WAY AROUND IT \n",
    "\n",
    "    # HERE WE ARE TRYING TO SIMULATE A LOGING SYSTEM\n",
    "    # FIRST WE INITIATE AN UNENDING WHILE LOOP BY SETTING IT TO BE TRUE\n",
    "def individual_check_login_system():\n",
    "    start = True\n",
    "    while start:\n",
    "        # THEN THE USERNAME WILL BE REQUESTED WHICH BE STORED IN A VARIABLE \"userName\" WHILE ON LIKE THE FIRST ONE THAT THE PASSWORD AND USERNAME \n",
    "        # WILL BOTH BE CHECKED AT THE SAME TIME.\n",
    "        # HERE THE USERNAME WILL FIRST BE VERIFIED THEN THE PROMPT TO ENTER THE PASSWORD WHICH WILL THEN GO THROUGH A CHECK IF IT IS THE DATABASE,\n",
    "        # IF PASSWORD IS IN THE DATABASE THEN ACCESS WILL BE GRANTED\n",
    "        # IF IT IS NOT THEN THE USER WILL BE GIVEN 5 DIFFERENT ATTEMPTS TO ENTER THE CORRECT PASSWORD, IF AFTER THE 5TH ATTEMPT AND THE USER ENTERED AGAIN A WRONG PASSWORD THEN THE USER WILL BE \n",
    "        # TAKEN BACK TO THE BEGINING WHERE THE USER WILL NOW ENTER THE USERNAME OVER AGAIN\n",
    "        # BUT IF USER ENTERS THE CORRECT PASSWORD DURING THE 5 ATTEMPTS THE USER WILL BE GRANTED ACCESS\n",
    "        userName = input(\"Good day please who are ? \").lower()\n",
    "        if userName != \"oladunsi\":\n",
    "            #\n",
    "            continue\n",
    "\n",
    "        else:\n",
    "            password = input(\"Enter Your Passsword ? (it is the name of a fish) \").lower()\n",
    "            for count in range(1,5):\n",
    "                if userName == \"oladunsi\" and password != \"swordfish\" and count == 5:\n",
    "                    userName = \" \"\n",
    "                    return userName \n",
    "                    break\n",
    "                        #print(\"You have entered awrong password once\")\n",
    "                        #password = input(\"Enter Your Passsword ? (it is the name of a fish) \").lower()\n",
    "                        #print( count)\n",
    "\n",
    "\n",
    "                elif password != \"swordfish\" and count <=5 and userName == \"oladunsi\":\n",
    "                    print(f\"You have {5-count}, one more attempt!!!\")\n",
    "                    password = input(\"Enter Your Passsword ? (it is the name of a fish) \").lower()\n",
    "                    if password == \"swordfish\":\n",
    "                        print(\"finally\")\n",
    "                        return \"finally\"\n",
    "                        break\n",
    "                        start = False\n",
    "                        \n",
    "                    else:\n",
    "                        continue\n",
    "                else:\n",
    "                    print(\"Great, Nice one\")\n",
    "                    start = False\n",
    "                    break\n",
    "            #break\n",
    "                    \n",
    "\n",
    "                    #print(\"Thanks start all over from userName\")\n",
    "                    #continue\n",
    "                #elif password == \"swordfish\" and count == 1:\n",
    "                    #print(\"Finally\")\n",
    "                    #break\n",
    "\n",
    "                #else:\n",
    "                    #print(\"Great, Nice one\")\n",
    "                    #return \"Great, Nice one\"\n",
    "                    #break\n",
    "                    #password == \"swordfish\" \n",
    "                    #print(\"Great\")  \n",
    "                    #break\n",
    "\n",
    "                    #userName = input(\"Good day please who are ? \").lower()\n",
    "\n",
    "\n",
    "#individual_check_login_system()\n",
    "\n",
    "\n"
   ]
  },
  {
   "cell_type": "code",
   "execution_count": 3,
   "metadata": {},
   "outputs": [
    {
     "name": "stdin",
     "output_type": "stream",
     "text": [
      "website server check : ok\n",
      "Good day please who are ?  swordfi\n",
      "Good day please who are ?  oladunsi\n",
      "Enter Your Passsword ? (it is the name of a fish)  swordfi\n"
     ]
    },
    {
     "name": "stdout",
     "output_type": "stream",
     "text": [
      "You have 4, one more attempt!!!\n"
     ]
    },
    {
     "name": "stdin",
     "output_type": "stream",
     "text": [
      "Enter Your Passsword ? (it is the name of a fish)  swordfish\n"
     ]
    },
    {
     "name": "stdout",
     "output_type": "stream",
     "text": [
      "finally\n"
     ]
    }
   ],
   "source": [
    "signal = input(\"website server check :\") \n",
    "if signal == \"ok\":\n",
    "    individual_check_login_system()\n",
    "else:\n",
    "    print(\"server not found!!!\")\n"
   ]
  },
  {
   "cell_type": "code",
   "execution_count": 1,
   "metadata": {},
   "outputs": [],
   "source": [
    "\n",
    "                                # TRUST ME IT TOOK ME TWO (2) WHOLE DAYS TO FIGURE THIS OUT \n",
    "                                # THERE WILL BE MORE CODES THAT WILL TAKE ME MORE DAYS TO FIGURE OUT\n",
    "                                # SAMMY DONT BE SCARED!!! FACE THEM AND NEVER GIVE UP YOU WILL FIND A WAY AROUND IT \n",
    "\n",
    "    # HERE WE ARE TRYING TO SIMULATE A LOGING SYSTEM\n",
    "    # FIRST WE INITIATE AN UNENDING WHILE LOOP BY SETTING IT TO BE TRUE\n",
    "def individual_check_login_system():\n",
    "    start = True\n",
    "    while start:\n",
    "        # THEN THE USERNAME WILL BE REQUESTED WHICH BE STORED IN A VARIABLE \"userName\" WHILE ON LIKE THE FIRST ONE THAT THE PASSWORD AND USERNAME \n",
    "        # WILL BOTH BE CHECKED AT THE SAME TIME.\n",
    "        # HERE THE USERNAME WILL FIRST BE VERIFIED THEN THE PROMPT TO ENTER THE PASSWORD WHICH WILL THEN GO THROUGH A CHECK IF IT IS THE DATABASE,\n",
    "        # THEN ACCESS WILL BE GRANTED\n",
    "        # IF IT IS NOT THE ANOTHER TRIAL WILL BE GIVEN, IF AFTER THE SECOND TRIAL AND THE USER ENTER AGAIN A WRONG PASSWORD THEN THE USER WILL BE \n",
    "        # TAKE BACK TO THE BEGINING WHERE THE USER WILL NOW ENTER THE USERNAME AFRESH\n",
    "        # BUT IF AFTER THE SENCOND TRIAL THE USER ENTERS THE CORRECT USERNAME THEN THE USER WILL BE GRANTED ACCESS\n",
    "        userName = input(\"Good day please who are ? \").lower()\n",
    "        if userName != \"oladunsi\":\n",
    "            print(\"You have entered a wrong USERNAME, pls continue\")\n",
    "            \n",
    "\n",
    "        else:\n",
    "            password = input(\"Enter Your Passsword ? (it is the name of a fish) \").lower()\n",
    "            for count in range(1,5):\n",
    "                if userName == \"oladunsi\":       \n",
    "                    if password != \"swordfish\" and count == 5:\n",
    "                        userName = \" \"\n",
    "                        return userName \n",
    "                        break\n",
    "                        #print(\"You have entered awrong password once\")\n",
    "                        #password = input(\"Enter Your Passsword ? (it is the name of a fish) \").lower()\n",
    "                        #print( count)\n",
    "\n",
    "\n",
    "                    elif password != \"swordfish\" and count <= 5 and userName == \"oladunsi\":\n",
    "                        print(f\"You have {5-count} more trial!!!\")\n",
    "                        password = input(\"Enter Your Passsword ? (it is the name of a fish) \").lower()\n",
    "                        if password == \"swordfish\":\n",
    "                            print(\"finally\")\n",
    "                            return \"finally\"\n",
    "                            break\n",
    "\n",
    "                        #print(\"Thanks start all over from userName\")\n",
    "                        #continue\n",
    "                    #elif password == \"swordfish\" and count == \n",
    "                        #print(\"Finally\")\n",
    "                        #break\n",
    "\n",
    "                    else:\n",
    "                        print(\"Great, Nice one\")\n",
    "                        return \"Great, Nice one\"\n",
    "                        break\n",
    "                        #password == \"swordfish\" \n",
    "                        #print(\"Great\")  \n",
    "                        #break\n",
    "\n",
    "                        #userName = input(\"Good day please who are ? \").lower()\n",
    "\n",
    "\n",
    "#individual_check_login_system()\n",
    "\n",
    "\n"
   ]
  },
  {
   "cell_type": "code",
   "execution_count": 10,
   "metadata": {},
   "outputs": [
    {
     "name": "stdout",
     "output_type": "stream",
     "text": [
      "my name is : \n",
      "Oladunsi five Times   (0) \n",
      "#############################\n",
      "Oladunsi five Time    (0)\n",
      "Oladunsi five Times   (1) \n",
      "#############################\n",
      "Oladunsi five Time    (2)\n",
      "Oladunsi five Times   (2) \n",
      "#############################\n",
      "Oladunsi five Time    (8)\n",
      "Oladunsi five Times   (3) \n",
      "#############################\n",
      "Oladunsi five Time    (18)\n",
      "Oladunsi five Times   (4) \n",
      "#############################\n",
      "Oladunsi five Time    (32)\n"
     ]
    }
   ],
   "source": [
    "print(\"my name is : \")\n",
    "for i in range(5):\n",
    "    print(\"Oladunsi five Times   (\" + str(i) + \") \")\n",
    "    print(\"#############################\")\n",
    "    print(f\"Oladunsi five Time    ({str(i*i*2)})\")"
   ]
  },
  {
   "cell_type": "code",
   "execution_count": 4,
   "metadata": {},
   "outputs": [
    {
     "name": "stdout",
     "output_type": "stream",
     "text": [
      "my name is : \n",
      "Oladunsi five Times   (1) \n",
      "Oladunsi five Time    (2)\n",
      "Oladunsi five Times   (2) \n",
      "Oladunsi five Time    (8)\n",
      "Oladunsi five Times   (3) \n",
      "Oladunsi five Time    (18)\n",
      "Oladunsi five Times   (4) \n",
      "Oladunsi five Time    (32)\n",
      "Oladunsi five Times   (5) \n",
      "Oladunsi five Time    (50)\n"
     ]
    }
   ],
   "source": [
    "i = 0\n",
    "print(\"my name is : \")\n",
    "while i in range(5):\n",
    "    i += 1\n",
    "    print(\"Oladunsi five Times   (\" + str(i) + \") \")\n",
    "    #print(\"#############################\")\n",
    "    print(f\"Oladunsi five Time    ({str(i*i*2)})\")"
   ]
  },
  {
   "cell_type": "code",
   "execution_count": 13,
   "metadata": {},
   "outputs": [
    {
     "name": "stdout",
     "output_type": "stream",
     "text": [
      "5051\n"
     ]
    }
   ],
   "source": [
    "num = 1\n",
    "for i in range(101):\n",
    "    num += i\n",
    "    # to print \"i\" in iteration(repeatedly) just (print(num)) here\n",
    "print(num)"
   ]
  },
  {
   "cell_type": "code",
   "execution_count": 27,
   "metadata": {},
   "outputs": [
    {
     "name": "stdout",
     "output_type": "stream",
     "text": [
      "10\n",
      "9\n",
      "8\n",
      "7\n",
      "6\n",
      "5\n",
      "4\n",
      "wahwooo\n",
      "3\n",
      "2\n",
      "1\n"
     ]
    }
   ],
   "source": [
    "# to print from reverse\n",
    "for i in range(10, 0, -1):\n",
    "    if i == 3:\n",
    "        print(\"wahwooo\")\n",
    "    print(i)"
   ]
  },
  {
   "cell_type": "code",
   "execution_count": 36,
   "metadata": {},
   "outputs": [
    {
     "name": "stdout",
     "output_type": "stream",
     "text": [
      "72\n",
      "54\n",
      "18\n",
      "27\n",
      "81\n"
     ]
    }
   ],
   "source": [
    "# now are import modules and we will be using random as test\n",
    "# here we want to 5 numbers and the numbers shoul be in between 0 to 100\n",
    "import random\n",
    "for i in range(5):\n",
    "    print(random.randint(0,100))"
   ]
  },
  {
   "cell_type": "code",
   "execution_count": 39,
   "metadata": {},
   "outputs": [
    {
     "name": "stdout",
     "output_type": "stream",
     "text": [
      "0   0   0   0\n"
     ]
    }
   ],
   "source": [
    "w=72-54\n",
    "n =54-18\n",
    "m = 27-18\n",
    "b = 81-27\n",
    "print(w%3,\" \",n%3,\" \",m%3,\" \",b%3)"
   ]
  },
  {
   "cell_type": "code",
   "execution_count": 40,
   "metadata": {},
   "outputs": [
    {
     "name": "stdin",
     "output_type": "stream",
     "text": [
      "Are you go out ?  no\n"
     ]
    },
    {
     "name": "stdout",
     "output_type": "stream",
     "text": [
      "You said : no\n"
     ]
    },
    {
     "name": "stdin",
     "output_type": "stream",
     "text": [
      "Are you go out ?  i dont think so\n"
     ]
    },
    {
     "name": "stdout",
     "output_type": "stream",
     "text": [
      "You said : i dont think so\n"
     ]
    },
    {
     "name": "stdin",
     "output_type": "stream",
     "text": [
      "Are you go out ?  okay google going out\n"
     ]
    },
    {
     "ename": "SystemExit",
     "evalue": "",
     "output_type": "error",
     "traceback": [
      "An exception has occurred, use %tb to see the full traceback.\n",
      "\u001b[1;31mSystemExit\u001b[0m\n"
     ]
    },
    {
     "name": "stderr",
     "output_type": "stream",
     "text": [
      "C:\\Users\\Oke Oladunsi\\anaconda3\\lib\\site-packages\\IPython\\core\\interactiveshell.py:3339: UserWarning: To exit: use 'exit', 'quit', or Ctrl-D.\n",
      "  warn(\"To exit: use 'exit', 'quit', or Ctrl-D.\", stacklevel=1)\n"
     ]
    }
   ],
   "source": [
    "# working on the import sys module\n",
    "import sys\n",
    "while True:\n",
    "    go_Out = input(\"Are you go out ? \")\n",
    "    if go_Out == \"okay google going out\":\n",
    "        sys.exit()\n",
    "    print(f\"You said : {go_Out}\")\n",
    "        \n",
    "        "
   ]
  },
  {
   "cell_type": "code",
   "execution_count": 41,
   "metadata": {},
   "outputs": [
    {
     "data": {
      "text/plain": [
       "True"
      ]
     },
     "execution_count": 41,
     "metadata": {},
     "output_type": "execute_result"
    }
   ],
   "source": [
    "False != True"
   ]
  },
  {
   "cell_type": "code",
   "execution_count": 47,
   "metadata": {},
   "outputs": [
    {
     "name": "stdin",
     "output_type": "stream",
     "text": [
      "Enter a value for spam :  3\n"
     ]
    },
    {
     "name": "stdout",
     "output_type": "stream",
     "text": [
      "Greetings\n"
     ]
    }
   ],
   "source": [
    "# question 9 on page 84 in automate the borring stuf\n",
    "spam = int(input(\"Enter a value for spam : \"))\n",
    "if spam == 1:\n",
    "    print(\"Hello\")\n",
    "elif spam == 2:\n",
    "    print(\"Howdy\")\n",
    "else:\n",
    "    print(\"Greetings\")"
   ]
  },
  {
   "cell_type": "code",
   "execution_count": 5,
   "metadata": {},
   "outputs": [
    {
     "name": "stdout",
     "output_type": "stream",
     "text": [
      "0\n",
      "1\n",
      "2\n",
      "3\n",
      "4\n",
      "5\n",
      "6\n",
      "7\n",
      "8\n",
      "9\n",
      "10\n"
     ]
    }
   ],
   "source": [
    "\n",
    "for i in range(11):\n",
    "    print(i)"
   ]
  },
  {
   "cell_type": "code",
   "execution_count": 6,
   "metadata": {},
   "outputs": [
    {
     "name": "stdout",
     "output_type": "stream",
     "text": [
      "0\n",
      "1\n",
      "2\n",
      "3\n",
      "4\n",
      "5\n",
      "6\n",
      "7\n",
      "8\n",
      "9\n",
      "10\n"
     ]
    }
   ],
   "source": [
    "i = 0\n",
    "while i in range(11):\n",
    "    print(i)\n",
    "    i += 1\n",
    "   "
   ]
  },
  {
   "cell_type": "code",
   "execution_count": 7,
   "metadata": {},
   "outputs": [
    {
     "data": {
      "text/plain": [
       "12"
      ]
     },
     "execution_count": 7,
     "metadata": {},
     "output_type": "execute_result"
    }
   ],
   "source": [
    "round(12.45)"
   ]
  },
  {
   "cell_type": "code",
   "execution_count": 9,
   "metadata": {},
   "outputs": [
    {
     "data": {
      "text/plain": [
       "12.5"
      ]
     },
     "execution_count": 9,
     "metadata": {},
     "output_type": "execute_result"
    }
   ],
   "source": [
    "abs(.5)"
   ]
  },
  {
   "cell_type": "code",
   "execution_count": null,
   "metadata": {},
   "outputs": [],
   "source": []
  },
  {
   "cell_type": "code",
   "execution_count": 25,
   "metadata": {},
   "outputs": [
    {
     "data": {
      "text/plain": [
       "<matplotlib.image.AxesImage at 0x9639dd0>"
      ]
     },
     "execution_count": 25,
     "metadata": {},
     "output_type": "execute_result"
    },
    {
     "data": {
      "image/png": "[encoded data removed]",
      "text/plain": [
       "<Figure size 432x288 with 1 Axes>"
      ]
     },
     "metadata": {
      "needs_background": "light"
     },
     "output_type": "display_data"
    }
   ],
   "source": [
    "import matplotlib.image as mpimg\n",
    "import matplotlib.pyplot as plt\n",
    "my_img = mpimg.imread(\"C:\\\\Users\\\\Oke Oladunsi\\\\Desktop\\\\IMG_9357.jpg\")\n",
    "my =  mpimg.imread(\"C:\\\\Users\\\\Oke Oladunsi\\\\Desktop\\\\SEUN.jpg\")\n",
    "plt.imshow(my_img)\n",
    "\n"
   ]
  },
  {
   "cell_type": "code",
   "execution_count": 22,
   "metadata": {},
   "outputs": [
    {
     "data": {
      "text/plain": [
       "<matplotlib.image.AxesImage at 0x93c37b0>"
      ]
     },
     "execution_count": 22,
     "metadata": {},
     "output_type": "execute_result"
    },
    {
     "data": {
      "image/png": "[encoded data removed]",
      "text/plain": [
       "<Figure size 432x288 with 1 Axes>"
      ]
     },
     "metadata": {
      "needs_background": "light"
     },
     "output_type": "display_data"
    }
   ],
   "source": [
    "plt.imshow(my_img)"
   ]
  },
  {
   "cell_type": "code",
   "execution_count": 22,
   "metadata": {},
   "outputs": [
    {
     "name": "stdout",
     "output_type": "stream",
     "text": [
      "spam\n",
      "spam() 42 spam bacon spam\n"
     ]
    }
   ],
   "source": [
    "def spam():\n",
    "    global eggs\n",
    "    eggs = \"spam\"\n",
    "    return eggs\n",
    "def bacon():\n",
    "    eggs = \"bacon\"\n",
    "    return eggs\n",
    "def ham():\n",
    "    print(eggs)\n",
    "    return eggs\n",
    "eggs = 42\n",
    "\n",
    "print(\"spam()\",eggs, spam(), bacon(),ham())"
   ]
  },
  {
   "cell_type": "code",
   "execution_count": 23,
   "metadata": {},
   "outputs": [
    {
     "name": "stdout",
     "output_type": "stream",
     "text": [
      "This is a guessing game of numbers between 1-20 :\n"
     ]
    },
    {
     "name": "stdin",
     "output_type": "stream",
     "text": [
      "Guess the number on mind :  8\n"
     ]
    },
    {
     "name": "stdout",
     "output_type": "stream",
     "text": [
      "Waahwoooo,You've gotten it right after 1 guesses\n"
     ]
    }
   ],
   "source": [
    "# Guessing game\n",
    "import random\n",
    "print(\"This is a guessing game of numbers between 1-20 :\")\n",
    "computer_guess = random.randint(1,20)\n",
    "# the iteraton mode for 3 trial\n",
    "for guesses in range(1,4):\n",
    "    user_guess = int(input(\"Guess the number on mind : \"))\n",
    "    # the conditions\n",
    "    if user_guess < computer_guess:\n",
    "        print(\"The the number you guess is less than my guess!!!\")\n",
    "        print(\"Try again\")\n",
    "    elif user_guess > computer_guess:\n",
    "        print(\"The the number you guess is Greater than my guess!!!\")\n",
    "        print(\"Try again\")\n",
    "    else:\n",
    "        break\n",
    "if user_guess == computer_guess:\n",
    "    print(f\"Waahwoooo,You've gotten it right after {guesses} guesses\")\n",
    "else:\n",
    "    print(f\"Thanks for playing with me but you were wrong again after  {guesses} guesses, the number on my mind was {computer_guess}\")"
   ]
  },
  {
   "cell_type": "code",
   "execution_count": null,
   "metadata": {},
   "outputs": [],
   "source": []
  }
 ],
 "metadata": {
  "kernelspec": {
   "display_name": "Python 3",
   "language": "python",
   "name": "python3"
  },
  "language_info": {
   "codemirror_mode": {
    "name": "ipython",
    "version": 3
   },
   "file_extension": ".py",
   "mimetype": "text/x-python",
   "name": "python",
   "nbconvert_exporter": "python",
   "pygments_lexer": "ipython3",
   "version": "3.7.6"
  }
 },
 "nbformat": 4,
 "nbformat_minor": 4
}
